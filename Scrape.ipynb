{
 "cells": [
  {
   "cell_type": "markdown",
   "id": "317b79e4-ac55-44cd-a2d8-9b9482d3dfaa",
   "metadata": {},
   "source": [
    "# Imports"
   ]
  },
  {
   "cell_type": "code",
   "execution_count": 1,
   "id": "dc879c79-c851-4cfd-99d2-5e0fc721adcd",
   "metadata": {},
   "outputs": [
    {
     "data": {
      "text/plain": [
       "True"
      ]
     },
     "execution_count": 1,
     "metadata": {},
     "output_type": "execute_result"
    }
   ],
   "source": [
    "import time\n",
    "from pytz import UTC\n",
    "import requests\n",
    "from urllib.parse import quote\n",
    "from datetime import datetime\n",
    "from tqdm import tqdm\n",
    "import pandas as pd\n",
    "import numpy as np\n",
    "import itertools\n",
    "import sys\n",
    "import concurrent.futures\n",
    "from dotenv import load_dotenv\n",
    "import os\n",
    "\n",
    "load_dotenv()"
   ]
  },
  {
   "cell_type": "markdown",
   "id": "46db2194-01ee-4eb7-8cda-cacbf275c22c",
   "metadata": {},
   "source": [
    "# Step - I: Fetching Users \n",
    "**(>100 followers from Singapore)**"
   ]
  },
  {
   "cell_type": "code",
   "execution_count": 2,
   "id": "5ae12809-e40f-430f-ae56-088ddf0dc26c",
   "metadata": {},
   "outputs": [],
   "source": [
    "key = os.getenv(\"my_token\")\n",
    "header = {\"Authorization\": f\"Bearer {key}\"}"
   ]
  },
  {
   "cell_type": "code",
   "execution_count": 3,
   "id": "7431afa0-495b-4e38-acaa-1edde4c17339",
   "metadata": {},
   "outputs": [
    {
     "name": "stdout",
     "output_type": "stream",
     "text": [
      "29,28,27,26,25,24,23,22,21,19,18,17,16,15,14,13,12,11,10,9,8,7,6,5,"
     ]
    }
   ],
   "source": [
    "q = quote(\"followers:>100 location:Singapore\")\n",
    "url = f\"https://api.github.com/search/users?q={q}&sort=followers\"\n",
    "l = []\n",
    "while url:\n",
    "    r = requests.get(url, headers=header)\n",
    "    url = r.links.get('next', {}).get('url')\n",
    "    l.append(r.json())\n",
    "    if (r.headers[\"X-RateLimit-Remaining\"]) == 1:\n",
    "        time.sleep(float(r.headers[\"X-RateLimit-Reset\"])-current_time.timestamp())\n",
    "    sys.stdout.write(f\"{r.headers[\"X-RateLimit-Remaining\"]},\")"
   ]
  },
  {
   "cell_type": "code",
   "execution_count": 4,
   "id": "db47719a-30bb-4dca-90a2-c7d8552af621",
   "metadata": {},
   "outputs": [],
   "source": [
    "l_items = [i[\"items\"] for i in l]"
   ]
  },
  {
   "cell_type": "code",
   "execution_count": 5,
   "id": "096ce0ee-6c71-48e0-a8e6-3ee8c89df7da",
   "metadata": {},
   "outputs": [
    {
     "data": {
      "text/plain": [
       "698"
      ]
     },
     "execution_count": 5,
     "metadata": {},
     "output_type": "execute_result"
    }
   ],
   "source": [
    "l_logins = []\n",
    "for i in range(len(l_items)):\n",
    "    for j in l_items[i]:\n",
    "        l_logins.append(j[\"login\"])\n",
    "len(l_logins)"
   ]
  },
  {
   "cell_type": "markdown",
   "id": "31fa5e5f-c64f-479a-b645-0009e9f5f5e7",
   "metadata": {},
   "source": [
    "# Step - II Fetching User Data "
   ]
  },
  {
   "cell_type": "code",
   "execution_count": 6,
   "id": "a49cdff5-2db3-4d22-acb9-d9f4a12f20a6",
   "metadata": {},
   "outputs": [
    {
     "name": "stderr",
     "output_type": "stream",
     "text": [
      "698it [05:16,  2.21it/s]\n"
     ]
    }
   ],
   "source": [
    "def fetch_user_data(login):\n",
    "    with requests.Session() as session:\n",
    "        url = f\"https://api.github.com/users/{login}\"\n",
    "        response = session.get(url, headers=header, timeout=10)\n",
    "        response.raise_for_status()\n",
    "        time.sleep(2)\n",
    "        return response.json()\n",
    "\n",
    "def fetch_all_users_data(logins):\n",
    "    all_data = []\n",
    "    with concurrent.futures.ThreadPoolExecutor(max_workers=5) as executor:\n",
    "        futures = {executor.submit(fetch_user_data, login): login for login in logins}\n",
    "        for future in tqdm(concurrent.futures.as_completed(futures)):\n",
    "            try:\n",
    "                all_data.append(future.result())\n",
    "            except Exception as e:\n",
    "                print(f\"Error fetching data for a user: {e}\")\n",
    "    return all_data\n",
    "\n",
    "l_dash = fetch_all_users_data(l_logins)"
   ]
  },
  {
   "cell_type": "code",
   "execution_count": 7,
   "id": "0129ed4b-e6db-46f8-a1e3-882f3d17d199",
   "metadata": {},
   "outputs": [
    {
     "data": {
      "text/plain": [
       "698"
      ]
     },
     "execution_count": 7,
     "metadata": {},
     "output_type": "execute_result"
    }
   ],
   "source": [
    "len(l_dash)"
   ]
  },
  {
   "cell_type": "markdown",
   "id": "3e21ffce-f93b-485e-a7d5-d96ce78b11a6",
   "metadata": {},
   "source": [
    "## Converting fetched data to DataFrame and then to users.csv"
   ]
  },
  {
   "cell_type": "code",
   "execution_count": 8,
   "id": "27f7340a-6d53-448b-aa00-b6a394b4afca",
   "metadata": {},
   "outputs": [],
   "source": [
    "df = pd.DataFrame()\n",
    "df = pd.json_normalize(l_dash)"
   ]
  },
  {
   "cell_type": "code",
   "execution_count": 9,
   "id": "d3dea736-0226-41e8-abd8-31e7e28d3c15",
   "metadata": {},
   "outputs": [],
   "source": [
    "df_final = df.loc[:,[\"login\",\"name\",\"company\",\"location\",\"email\",\"hireable\",\"bio\",\"public_repos\",\"followers\",\"following\",\"created_at\"]]\n",
    "df_final[\"company\"] = df_final[\"company\"].str.replace(\"@\",\"\")\n",
    "df_final[\"company\"] = df_final[\"company\"].apply(lambda x: x.strip().upper() if x is not None else np.nan)"
   ]
  },
  {
   "cell_type": "code",
   "execution_count": 12,
   "id": "c8c41214-f552-4662-a815-ab73f6921efe",
   "metadata": {},
   "outputs": [],
   "source": [
    "df_final.to_csv(\"users1.csv\",index=False)"
   ]
  },
  {
   "cell_type": "markdown",
   "id": "451f3bf9-063d-419b-9440-b1a05521ce9b",
   "metadata": {},
   "source": [
    "# Step-III Fetching User Repositories\n",
    "**First 500 most recently pushed repositories**"
   ]
  },
  {
   "cell_type": "code",
   "execution_count": 13,
   "id": "6bbd6262-4d38-433c-8dc3-5563cb31fb84",
   "metadata": {},
   "outputs": [
    {
     "name": "stderr",
     "output_type": "stream",
     "text": [
      "698it [10:50,  1.07it/s]\n"
     ]
    }
   ],
   "source": [
    "def get_repo_details(repo):\n",
    "    return {\n",
    "        \"login\": repo.get(\"owner\").get(\"login\"),\n",
    "        \"full_name\": repo.get(\"name\"),\n",
    "        \"created_at\": repo.get(\"created_at\"),\n",
    "        \"stargazers_count\": repo.get(\"stargazers_count\"),\n",
    "        \"watchers_count\": repo.get(\"watchers_count\"),\n",
    "        \"language\": repo.get(\"language\"),\n",
    "        \"has_projects\": repo.get(\"has_projects\"),\n",
    "        \"has_wiki\": repo.get(\"has_wiki\"),\n",
    "        \"license_name\": repo.get(\"license\", {}).get(\"name\") if repo.get(\"license\") is not None else None\n",
    "    }\n",
    "\n",
    "def fetch_user_repos(user):\n",
    "    user_repos = []\n",
    "    count = 0\n",
    "    url = f\"https://api.github.com/users/{user}/repos\"\n",
    "    params = {\"sort\": \"pushed\", \"direction\": \"desc\", \"per_page\": 100}\n",
    "    while count < 5 and url:\n",
    "        count += 1\n",
    "        try:\n",
    "            resp = requests.get(url, headers=header, params=params, timeout=10)\n",
    "            resp.raise_for_status()\n",
    "            url = resp.links.get('next', {}).get('url')\n",
    "            for repo in resp.json():\n",
    "                user_repos.append(get_repo_details(repo))\n",
    "            time.sleep(2.5)\n",
    "        except requests.exceptions.RequestException as e:\n",
    "            print(f\"Error fetching repos for user {user}: {e}\")\n",
    "            break\n",
    "    return user_repos\n",
    "\n",
    "def fetch_all_users_repos(users):\n",
    "    all_repos = []\n",
    "    with concurrent.futures.ThreadPoolExecutor(max_workers=5) as executor:\n",
    "        futures = {executor.submit(fetch_user_repos, user): user for user in users}\n",
    "        for future in tqdm(concurrent.futures.as_completed(futures)):\n",
    "            try:\n",
    "                all_repos.extend(future.result())\n",
    "            except Exception as e:\n",
    "                print(f\"Error fetching repos: {e}\")\n",
    "    return all_repos\n",
    "\n",
    "l_repos = fetch_all_users_repos(l_logins)"
   ]
  },
  {
   "cell_type": "markdown",
   "id": "51d1c411-50ec-474e-970d-6bd32405e040",
   "metadata": {},
   "source": [
    "## Checking if all required repositories are fetched"
   ]
  },
  {
   "cell_type": "code",
   "execution_count": 14,
   "id": "69638fd7-d1e7-4e15-b07a-09d5988755db",
   "metadata": {},
   "outputs": [
    {
     "data": {
      "text/plain": [
       "54800"
      ]
     },
     "execution_count": 14,
     "metadata": {},
     "output_type": "execute_result"
    }
   ],
   "source": [
    "len(l_repos)"
   ]
  },
  {
   "cell_type": "code",
   "execution_count": 15,
   "id": "cd1c0941-f6c3-4c5b-b4df-be5bb9cfd203",
   "metadata": {},
   "outputs": [
    {
     "data": {
      "text/plain": [
       "np.int64(54799)"
      ]
     },
     "execution_count": 15,
     "metadata": {},
     "output_type": "execute_result"
    }
   ],
   "source": [
    "df_final.loc[df_final[\"public_repos\"] < 500,\"public_repos\"].sum()+df_final.loc[df_final[\"public_repos\"] > 500,\"public_repos\"].apply(lambda x: 500).sum()"
   ]
  },
  {
   "cell_type": "markdown",
   "id": "f6ac55d0-fd55-4488-be7a-0f6a24aa759d",
   "metadata": {},
   "source": [
    "**Hooray!!! Above two lines show that all required repos are fetched**"
   ]
  },
  {
   "cell_type": "markdown",
   "id": "fe220e5c-d637-426d-8d64-b885966519f3",
   "metadata": {},
   "source": [
    "## Converting fetched data to DataFrame and then to repositories.csv"
   ]
  },
  {
   "cell_type": "code",
   "execution_count": 16,
   "id": "9308dfc5-757b-486c-9e34-1473f1b7972f",
   "metadata": {},
   "outputs": [],
   "source": [
    "df_repos = pd.json_normalize(l_repos)"
   ]
  },
  {
   "cell_type": "code",
   "execution_count": 17,
   "id": "8df19c72-722c-4985-b312-ebe646033518",
   "metadata": {},
   "outputs": [],
   "source": [
    "df_repos.to_csv(\"repositories1.csv\",index=False)"
   ]
  },
  {
   "cell_type": "markdown",
   "id": "6e15b839-1ddd-412f-b887-b939ce2af9b2",
   "metadata": {},
   "source": [
    "# Actionable Insight for users"
   ]
  },
  {
   "cell_type": "code",
   "execution_count": 18,
   "id": "c01f3e98-062b-4ef2-814e-13d618981df0",
   "metadata": {},
   "outputs": [
    {
     "data": {
      "text/plain": [
       "language\n",
       "JavaScript    7418\n",
       "Python        5937\n",
       "TypeScript    2671\n",
       "Java          2372\n",
       "Go            2198\n",
       "Name: count, dtype: int64"
      ]
     },
     "execution_count": 18,
     "metadata": {},
     "output_type": "execute_result"
    }
   ],
   "source": [
    "df_repos[\"language\"].value_counts()[:5]"
   ]
  }
 ],
 "metadata": {
  "kernelspec": {
   "display_name": "Python 3 (ipykernel)",
   "language": "python",
   "name": "python3"
  },
  "language_info": {
   "codemirror_mode": {
    "name": "ipython",
    "version": 3
   },
   "file_extension": ".py",
   "mimetype": "text/x-python",
   "name": "python",
   "nbconvert_exporter": "python",
   "pygments_lexer": "ipython3",
   "version": "3.12.3"
  }
 },
 "nbformat": 4,
 "nbformat_minor": 5
}
